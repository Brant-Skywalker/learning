{
 "cells": [
  {
   "cell_type": "code",
   "execution_count": 18,
   "metadata": {
    "collapsed": true,
    "pycharm": {
     "name": "#%%\n"
    }
   },
   "outputs": [],
   "source": [
    "import torch\n",
    "\n",
    "device = torch.device(\"mps\") if torch.backends.mps.is_available() else torch.device(\"cpu\")\n"
   ]
  },
  {
   "cell_type": "code",
   "execution_count": 23,
   "outputs": [],
   "source": [
    "class DualIntervalTensor:\n",
    "\n",
    "    def __init__(self, real_lb: torch.Tensor, real_ub: torch.Tensor, dual_lb: torch.Tensor, dual_ub: torch.Tensor):\n",
    "        if not (\n",
    "                real_lb.size() == dual_lb.size() and real_lb.size() == real_ub.size() and dual_lb.size() == dual_ub.size()):\n",
    "            raise TypeError(\"Input sizes not match.\")\n",
    "\n",
    "        if not (\n",
    "                real_lb.device == dual_lb.device and real_lb.device == real_ub.device and dual_lb.device == dual_ub.device):\n",
    "            raise TypeError(\"Input devices not match.\")\n",
    "\n",
    "        if not (torch.all(torch.le(real_lb, real_ub)) and torch.all(torch.le(dual_lb, dual_ub))):\n",
    "            raise ValueError(\"Some lower bound greater than upper bound.\")\n",
    "\n",
    "        self.real_lb = real_lb\n",
    "        self.real_ub = real_ub\n",
    "        self.dual_lb = dual_lb\n",
    "        self.dual_ub = dual_ub\n",
    "        self.device = real_lb.device\n",
    "        self.dtype = real_lb.dtype\n",
    "\n",
    "    def __repr__(self) -> str:\n",
    "        from pprint import pformat\n",
    "        return pformat(vars(self), indent=4, width=1, sort_dicts=False)\n",
    "\n",
    "\n"
   ],
   "metadata": {
    "collapsed": false,
    "pycharm": {
     "name": "#%%\n"
    }
   }
  },
  {
   "cell_type": "code",
   "execution_count": 27,
   "outputs": [
    {
     "name": "stdout",
     "output_type": "stream",
     "text": [
      "{   'real_lb': tensor([1., 3., 5.], device='mps:0'),\n",
      "    'real_ub': tensor([2., 4., 7.], device='mps:0'),\n",
      "    'dual_lb': tensor([-2., -3., -5.], device='mps:0'),\n",
      "    'dual_ub': tensor([1., 3., 5.], device='mps:0'),\n",
      "    'device': device(type='mps', index=0),\n",
      "    'dtype': torch.float32}\n"
     ]
    }
   ],
   "source": [
    "\n",
    "# d0 = DualIntervalTensor(torch.tensor([1., 3., 9.], device=device), torch.tensor([2., 4., 7.], device=device),\n",
    "#                         torch.tensor([-2., -3., -5.], device=device), torch.tensor([1., 3., 5.], device=device))\n",
    "\n",
    "# d0 = DualIntervalTensor(torch.tensor([1., 3., 9.], device=torch.device(\"cpu\")),\n",
    "#                         torch.tensor([2., 4., 7.], device=device),\n",
    "#                         torch.tensor([-2., -3., -5.], device=device), torch.tensor([1., 3., 5.], device=device))\n",
    "\n",
    "\n",
    "d1 = DualIntervalTensor(torch.tensor([1., 3., 5.], device=device), torch.tensor([2., 4., 7.], device=device),\n",
    "                        torch.tensor([-2., -3., -5.], device=device), torch.tensor([1., 3., 5.], device=device))\n",
    "\n",
    "# d2 = DualIntervalTensor()\n",
    "print(d1)\n",
    "# print(d1 + d2)\n",
    "# print(d1 - d2)\n",
    "# print(d1 * d2)\n",
    "# print(tanh(d1))"
   ],
   "metadata": {
    "collapsed": false,
    "pycharm": {
     "name": "#%%\n"
    }
   }
  }
 ],
 "metadata": {
  "kernelspec": {
   "display_name": "Python 3",
   "language": "python",
   "name": "python3"
  },
  "language_info": {
   "codemirror_mode": {
    "name": "ipython",
    "version": 2
   },
   "file_extension": ".py",
   "mimetype": "text/x-python",
   "name": "python",
   "nbconvert_exporter": "python",
   "pygments_lexer": "ipython2",
   "version": "2.7.6"
  }
 },
 "nbformat": 4,
 "nbformat_minor": 0
}