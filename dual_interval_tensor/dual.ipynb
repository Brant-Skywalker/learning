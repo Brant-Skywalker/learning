{
 "cells": [
  {
   "cell_type": "code",
   "execution_count": 77,
   "metadata": {
    "collapsed": true,
    "pycharm": {
     "name": "#%%\n"
    }
   },
   "outputs": [],
   "source": [
    "import torch\n",
    "import numpy as np"
   ]
  },
  {
   "cell_type": "code",
   "execution_count": 78,
   "outputs": [],
   "source": [
    "class Dual:\n",
    "\n",
    "    def __init__(self, real, dual):\n",
    "        \"\"\"\n",
    "        :param real: int or float\n",
    "        :param dual: dict (str: float)\n",
    "        \"\"\"\n",
    "        if not isinstance(real, (int, float)) or not isinstance(dual, dict):\n",
    "            raise TypeError(\"Wrong type of argument(s)!\")\n",
    "        self.real = float(real)\n",
    "        self.dual = dual\n",
    "\n",
    "    def __repr__(self) -> str:\n",
    "        from pprint import pformat\n",
    "        return pformat(vars(self), indent=4, width=1, sort_dicts=False)\n",
    "\n",
    "    def __add__(self, other):\n",
    "        if not isinstance(other, Dual):\n",
    "            raise TypeError(\"Undefined operation!\")\n",
    "        new_real = self.real + other.real\n",
    "        new_dual = dict(self.dual)\n",
    "        for var in other.dual:\n",
    "            if var in new_dual:\n",
    "                new_dual[var] += other.dual[var]\n",
    "            else:\n",
    "                new_dual[var] = other.dual[var]\n",
    "        return Dual(new_real, new_dual)\n",
    "\n",
    "    def __sub__(self, other):\n",
    "        if not isinstance(other, Dual):\n",
    "            raise TypeError(\"Undefined operation!\")\n",
    "        new_real = self.real - other.real\n",
    "        new_dual = dict(self.dual)\n",
    "        for var in other.dual:\n",
    "            if var in new_dual:\n",
    "                new_dual[var] -= other.dual[var]\n",
    "            else:\n",
    "                new_dual[var] = -other.dual[var]\n",
    "        return Dual(new_real, new_dual)\n",
    "\n",
    "    def __mul__(self, other):\n",
    "        if not isinstance(other, Dual):\n",
    "            raise TypeError(\"Undefined operation!\")\n",
    "        new_real = self.real * other.real\n",
    "        new_dual = {var: self.dual[var] * other.real for var in self.dual}\n",
    "        for var in other.dual:\n",
    "            if var in new_dual:\n",
    "                new_dual[var] += other.dual[var] * self.real\n",
    "            else:\n",
    "                new_dual[var] = other.dual[var] * self.real\n",
    "        return Dual(new_real, new_dual)\n",
    "\n",
    "\n",
    "def tanh(dual: Dual):\n",
    "    new_real = np.tanh(dual.real)\n",
    "    new_dual = {var: dual.dual[var] * (1 - np.tanh(dual.real) ** 2) for var in dual.dual}\n",
    "    return Dual(new_real, new_dual)"
   ],
   "metadata": {
    "collapsed": false,
    "pycharm": {
     "name": "#%%\n"
    }
   }
  },
  {
   "cell_type": "code",
   "execution_count": 79,
   "outputs": [
    {
     "name": "stdout",
     "output_type": "stream",
     "text": [
      "{   'real': 7.7,\n",
      "    'dual': {   'x': 9.0,\n",
      "                'y': 15.899999999999999}}\n",
      "{   'real': -2.1000000000000005,\n",
      "    'dual': {   'x': -1.5999999999999996,\n",
      "                'y': 1.4999999999999991}}\n",
      "{   'real': 13.72,\n",
      "    'dual': {   'x': 32.97,\n",
      "                'y': 62.790000000000006}}\n",
      "{   'real': 0.992631520201128,\n",
      "    'dual': {   'x': 0.054325860881831126,\n",
      "                'y': 0.12773918639781912}}\n"
     ]
    }
   ],
   "source": [
    "d1 = Dual(2.8, {'x': 3.7, 'y': 8.7})\n",
    "d2 = Dual(4.9, {'x': 5.3, 'y': 7.2})\n",
    "print(d1 + d2)\n",
    "print(d1 - d2)\n",
    "print(d1 * d2)\n",
    "print(tanh(d1))"
   ],
   "metadata": {
    "collapsed": false,
    "pycharm": {
     "name": "#%%\n"
    }
   }
  }
 ],
 "metadata": {
  "kernelspec": {
   "display_name": "Python 3",
   "language": "python",
   "name": "python3"
  },
  "language_info": {
   "codemirror_mode": {
    "name": "ipython",
    "version": 2
   },
   "file_extension": ".py",
   "mimetype": "text/x-python",
   "name": "python",
   "nbconvert_exporter": "python",
   "pygments_lexer": "ipython2",
   "version": "2.7.6"
  }
 },
 "nbformat": 4,
 "nbformat_minor": 0
}