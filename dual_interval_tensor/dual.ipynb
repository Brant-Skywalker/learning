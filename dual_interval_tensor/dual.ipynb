{
 "cells": [
  {
   "cell_type": "code",
   "execution_count": 127,
   "metadata": {
    "collapsed": true,
    "pycharm": {
     "name": "#%%\n"
    }
   },
   "outputs": [],
   "source": [
    "import torch\n",
    "\n",
    "device = torch.device(\"mps\") if torch.backends.mps.is_available() else torch.device(\"cpu\")"
   ]
  },
  {
   "cell_type": "code",
   "execution_count": 155,
   "outputs": [],
   "source": [
    "def imatmul(a1: torch.Tensor, a2: torch.Tensor, b1: torch.Tensor, b2: torch.Tensor):\n",
    "    \"\"\"\n",
    "    Also Algorithm 4.8 in https://www.tuhh.de/ti3/paper/rump/Ru11a.pdf.\n",
    "    :param a1: LHS lower bound\n",
    "    :param a2: LHS upper bound\n",
    "    :param b1: RHS lower bound\n",
    "    :param b2: RHS upper bound\n",
    "    :return: resulting lower & upper bounds\n",
    "    \"\"\"\n",
    "    m_a = (a1 + a2) / 2\n",
    "    r_a = m_a - a1\n",
    "    m_b = (b1 + b2) / 2\n",
    "    r_b = m_b - b1\n",
    "    rho_a = torch.sign(m_a) * torch.min(torch.abs(m_a), r_a)\n",
    "    rho_b = torch.sign(m_b) * torch.min(torch.abs(m_b), r_b)\n",
    "    r_c = torch.abs(m_a) @ r_b + r_a @ (torch.abs(m_b) + r_b) + (-torch.abs(rho_a)) @ torch.abs(rho_b)\n",
    "    _c2 = m_a @ m_b + rho_a @ rho_b + r_c\n",
    "    _c1 = m_a @ m_b + rho_a @ rho_b - r_c\n",
    "    return _c1, _c2\n"
   ],
   "metadata": {
    "collapsed": false,
    "pycharm": {
     "name": "#%%\n"
    }
   }
  },
  {
   "cell_type": "code",
   "execution_count": 158,
   "outputs": [
    {
     "name": "stdout",
     "output_type": "stream",
     "text": [
      "(tensor(-35.), tensor(41.))\n"
     ]
    }
   ],
   "source": [
    "t1_l = torch.Tensor([1., 2., 3.])\n",
    "t1_u = torch.Tensor([3., 4., 6.])\n",
    "t2_l = torch.Tensor([-1., -2., -4.])\n",
    "t2_u = torch.Tensor([3., 2., 4])\n",
    "\n",
    "print(imatmul(t1_l, t1_u, t2_l, t2_u))\n"
   ],
   "metadata": {
    "collapsed": false,
    "pycharm": {
     "name": "#%%\n"
    }
   }
  },
  {
   "cell_type": "code",
   "execution_count": 130,
   "outputs": [],
   "source": [
    "class DualIntervalTensor:\n",
    "\n",
    "    def __init__(self, real_lb: torch.Tensor, real_ub: torch.Tensor, dual_lb: torch.Tensor, dual_ub: torch.Tensor):\n",
    "        if not (\n",
    "                real_lb.size() == dual_lb.size() and real_lb.size() == real_ub.size() and dual_lb.size() == dual_ub.size()):\n",
    "            raise TypeError(\"Input sizes not match.\")\n",
    "\n",
    "        if not (\n",
    "                real_lb.device == dual_lb.device and real_lb.device == real_ub.device and dual_lb.device == dual_ub.device):\n",
    "            raise TypeError(\"Input devices not match.\")\n",
    "\n",
    "        if not (torch.all(torch.le(real_lb, real_ub)) and torch.all(torch.le(dual_lb, dual_ub))):\n",
    "            raise ValueError(\"Some lower bound greater than upper bound.\")\n",
    "\n",
    "        self.real_lb = real_lb\n",
    "        self.real_ub = real_ub\n",
    "        self.dual_lb = dual_lb\n",
    "        self.dual_ub = dual_ub\n",
    "        self.device = real_lb.device\n",
    "        self.dtype = real_lb.dtype\n",
    "\n",
    "    def __repr__(self) -> str:\n",
    "        from pprint import pformat\n",
    "        return pformat(vars(self), indent=4, width=1, sort_dicts=False)\n",
    "\n",
    "    def __add__(self, other):\n",
    "        if isinstance(other, self.__class__):\n",
    "            new_real_lb = self.real_lb + other.real_lb\n",
    "            new_real_ub = self.real_ub + other.real_ub\n",
    "            new_dual_lb = self.dual_lb + other.dual_lb\n",
    "            new_dual_ub = self.dual_ub + other.dual_ub\n",
    "            return DualIntervalTensor(new_real_lb, new_real_ub, new_dual_lb, new_dual_ub)\n",
    "        if isinstance(other, (int, float)):\n",
    "            return DualIntervalTensor(self.real_lb + other, self.real_ub + other, self.dual_lb, self.dual_ub)\n",
    "        raise TypeError(f\"Unsupported operation `+` for class {self.__class__} and {type(other)}\")\n",
    "\n",
    "    __radd__ = __add__\n",
    "\n",
    "    def __neg__(self):\n",
    "        return DualIntervalTensor(-self.real_ub, -self.real_lb, -self.dual_ub, -self.dual_lb)\n",
    "\n",
    "    def __sub__(self, other):\n",
    "        return self + -other\n",
    "\n",
    "    def __rsub__(self, other):\n",
    "        return other + -self\n"
   ],
   "metadata": {
    "collapsed": false,
    "pycharm": {
     "name": "#%%\n"
    }
   }
  },
  {
   "cell_type": "code",
   "execution_count": 131,
   "outputs": [
    {
     "name": "stdout",
     "output_type": "stream",
     "text": [
      "{   'real_lb': tensor([1., 3., 5.], device='mps:0'),\n",
      "    'real_ub': tensor([2., 4., 7.], device='mps:0'),\n",
      "    'dual_lb': tensor([-2., -3., -5.], device='mps:0'),\n",
      "    'dual_ub': tensor([1., 3., 5.], device='mps:0'),\n",
      "    'device': device(type='mps', index=0),\n",
      "    'dtype': torch.float32}\n",
      "{   'real_lb': tensor([-1., -2., -4.], device='mps:0'),\n",
      "    'real_ub': tensor([-0.5000,  4.3000,  3.2000], device='mps:0'),\n",
      "    'dual_lb': tensor([ 2.8000, -2.0000, -5.6000], device='mps:0'),\n",
      "    'dual_ub': tensor([ 3.0000, -1.4000,  3.0000], device='mps:0'),\n",
      "    'device': device(type='mps', index=0),\n",
      "    'dtype': torch.float32}\n"
     ]
    }
   ],
   "source": [
    "\n",
    "# d0 = DualIntervalTensor(torch.tensor([1., 3., 9.], device=device), torch.tensor([2., 4., 7.], device=device),\n",
    "#                         torch.tensor([-2., -3., -5.], device=device), torch.tensor([1., 3., 5.], device=device))\n",
    "\n",
    "# d0 = DualIntervalTensor(torch.tensor([1., 3., 9.], device=torch.device(\"cpu\")),\n",
    "#                         torch.tensor([2., 4., 7.], device=device),\n",
    "#                         torch.tensor([-2., -3., -5.], device=device), torch.tensor([1., 3., 5.], device=device))\n",
    "\n",
    "d1 = DualIntervalTensor(torch.tensor([1., 3., 5.], device=device), torch.tensor([2., 4., 7.], device=device),\n",
    "                        torch.tensor([-2., -3., -5.], device=device), torch.tensor([1., 3., 5.], device=device))\n",
    "\n",
    "d2 = DualIntervalTensor(torch.tensor([-1., -2., -4.], device=device), torch.tensor([-0.5, 4.3, 3.2], device=device),\n",
    "                        torch.tensor([2.8, -2., -5.6], device=device), torch.tensor([3., -1.4, 3.], device=device))\n",
    "\n",
    "print(d1)\n",
    "print(d2)\n",
    "\n"
   ],
   "metadata": {
    "collapsed": false,
    "pycharm": {
     "name": "#%%\n"
    }
   }
  },
  {
   "cell_type": "code",
   "execution_count": 132,
   "outputs": [
    {
     "name": "stdout",
     "output_type": "stream",
     "text": [
      "{   'real_lb': tensor([0., 1., 1.], device='mps:0'),\n",
      "    'real_ub': tensor([ 1.5000,  8.3000, 10.2000], device='mps:0'),\n",
      "    'dual_lb': tensor([  0.8000,  -5.0000, -10.6000], device='mps:0'),\n",
      "    'dual_ub': tensor([4.0000, 1.6000, 8.0000], device='mps:0'),\n",
      "    'device': device(type='mps', index=0),\n",
      "    'dtype': torch.float32}\n",
      "{   'real_lb': tensor([4., 6., 8.], device='mps:0'),\n",
      "    'real_ub': tensor([ 5.,  7., 10.], device='mps:0'),\n",
      "    'dual_lb': tensor([-2., -3., -5.], device='mps:0'),\n",
      "    'dual_ub': tensor([1., 3., 5.], device='mps:0'),\n",
      "    'device': device(type='mps', index=0),\n",
      "    'dtype': torch.float32}\n",
      "{   'real_lb': tensor([4., 6., 8.], device='mps:0'),\n",
      "    'real_ub': tensor([ 5.,  7., 10.], device='mps:0'),\n",
      "    'dual_lb': tensor([-2., -3., -5.], device='mps:0'),\n",
      "    'dual_ub': tensor([1., 3., 5.], device='mps:0'),\n",
      "    'device': device(type='mps', index=0),\n",
      "    'dtype': torch.float32}\n"
     ]
    }
   ],
   "source": [
    "print(d1 + d2)\n",
    "print(d1 + 3)\n",
    "print(3 + d1)\n",
    "\n"
   ],
   "metadata": {
    "collapsed": false,
    "pycharm": {
     "name": "#%%\n"
    }
   }
  },
  {
   "cell_type": "code",
   "execution_count": 133,
   "outputs": [
    {
     "name": "stdout",
     "output_type": "stream",
     "text": [
      "{   'real_lb': tensor([-2., -4., -7.], device='mps:0'),\n",
      "    'real_ub': tensor([-1., -3., -5.], device='mps:0'),\n",
      "    'dual_lb': tensor([-1., -3., -5.], device='mps:0'),\n",
      "    'dual_ub': tensor([2., 3., 5.], device='mps:0'),\n",
      "    'device': device(type='mps', index=0),\n",
      "    'dtype': torch.float32}\n",
      "{   'real_lb': tensor([ 1.5000, -1.3000,  1.8000], device='mps:0'),\n",
      "    'real_ub': tensor([ 3.,  6., 11.], device='mps:0'),\n",
      "    'dual_lb': tensor([-5.0000, -1.6000, -8.0000], device='mps:0'),\n",
      "    'dual_ub': tensor([-1.8000,  5.0000, 10.6000], device='mps:0'),\n",
      "    'device': device(type='mps', index=0),\n",
      "    'dtype': torch.float32}\n",
      "{   'real_lb': tensor([-3., -1.,  1.], device='mps:0'),\n",
      "    'real_ub': tensor([-2.,  0.,  3.], device='mps:0'),\n",
      "    'dual_lb': tensor([-2., -3., -5.], device='mps:0'),\n",
      "    'dual_ub': tensor([1., 3., 5.], device='mps:0'),\n",
      "    'device': device(type='mps', index=0),\n",
      "    'dtype': torch.float32}\n",
      "{   'real_lb': tensor([ 2.,  0., -3.], device='mps:0'),\n",
      "    'real_ub': tensor([ 3.,  1., -1.], device='mps:0'),\n",
      "    'dual_lb': tensor([-1., -3., -5.], device='mps:0'),\n",
      "    'dual_ub': tensor([2., 3., 5.], device='mps:0'),\n",
      "    'device': device(type='mps', index=0),\n",
      "    'dtype': torch.float32}\n"
     ]
    }
   ],
   "source": [
    "print(-d1)\n",
    "\n",
    "print(d1 - d2)\n",
    "print(d1 - 4)\n",
    "print(4 - d1)"
   ],
   "metadata": {
    "collapsed": false,
    "pycharm": {
     "name": "#%%\n"
    }
   }
  },
  {
   "cell_type": "code",
   "execution_count": 134,
   "outputs": [],
   "source": [
    "# print(d1 * d2)\n",
    "# print(tanh(d1))\n"
   ],
   "metadata": {
    "collapsed": false,
    "pycharm": {
     "name": "#%%\n"
    }
   }
  },
  {
   "cell_type": "code",
   "execution_count": 135,
   "outputs": [
    {
     "name": "stdout",
     "output_type": "stream",
     "text": [
      "tensor([0.5000, 1.0000, 1.5000])\n",
      "tensor([-1., -1., -1.])\n"
     ]
    }
   ],
   "source": [
    "s1 = torch.sign(t1)\n",
    "s2 = torch.sign(t2)\n",
    "\n",
    "print(t1 / 2)\n",
    "print(s2)\n"
   ],
   "metadata": {
    "collapsed": false,
    "pycharm": {
     "name": "#%%\n"
    }
   }
  }
 ],
 "metadata": {
  "kernelspec": {
   "display_name": "Python 3",
   "language": "python",
   "name": "python3"
  },
  "language_info": {
   "codemirror_mode": {
    "name": "ipython",
    "version": 2
   },
   "file_extension": ".py",
   "mimetype": "text/x-python",
   "name": "python",
   "nbconvert_exporter": "python",
   "pygments_lexer": "ipython2",
   "version": "2.7.6"
  }
 },
 "nbformat": 4,
 "nbformat_minor": 0
}