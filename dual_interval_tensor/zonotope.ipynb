{
 "cells": [
  {
   "cell_type": "code",
   "execution_count": 9,
   "metadata": {
    "collapsed": true,
    "pycharm": {
     "name": "#%%\n"
    }
   },
   "outputs": [],
   "source": [
    "import torch\n",
    "\n",
    "device = torch.device(\"mps\") if torch.backends.mps.is_available() else torch.device(\"cpu\")\n"
   ]
  },
  {
   "cell_type": "code",
   "execution_count": 10,
   "outputs": [],
   "source": [
    "class Zonotope:\n",
    "    def __init__(self, centers, generators):\n",
    "        if centers.size(1) != generators.size(1):\n",
    "            raise TypeError(\"The second dimension of input tensors do not match.\")\n",
    "        if centers.device != generators.device:\n",
    "            raise TypeError(\"Input devices do not match.\")\n",
    "        self.centers = centers\n",
    "        self.generators = generators\n",
    "        self.device = generators.device\n",
    "\n",
    "    def __repr__(self) -> str:\n",
    "        return \"Centers: \\n\" + self.centers.__str__() + \"\\n\" + \"Generators: \\n\" + self.generators.__str__() + \"\\n\"\n",
    "\n",
    "    def __add__(self, other):\n",
    "        if isinstance(other, self.__class__):\n",
    "            if self.get_num_noise() < other.get_num_noise():\n",
    "                self.expand(other.get_num_noise() - self.get_num_noise())\n",
    "            else:\n",
    "                other.expand(self.get_num_noise() - other.get_num_noise())\n",
    "            return Zonotope(self.centers + other.centers, self.generators + other.generators)\n",
    "        if isinstance(other, (int, float)):\n",
    "            return Zonotope(self.centers + other, self.generators)\n",
    "        if isinstance(other, torch.Tensor):\n",
    "            if self.centers.size() != other.size():\n",
    "                raise TypeError(\"Invalid size of input tensor.\")\n",
    "            return Zonotope(self.centers + other, self.generators)\n",
    "        raise TypeError(f\"Unsupported operation `+` for class {self.__class__} and {type(other)}\")\n",
    "\n",
    "    __radd__ = __add__\n",
    "\n",
    "    def __neg__(self):\n",
    "        return Zonotope(-self.centers, self.generators)\n",
    "\n",
    "    def __sub__(self, other):\n",
    "        return -other + self\n",
    "\n",
    "    def __mul__(self, other):\n",
    "        if isinstance(other, self.__class__):\n",
    "            if self.get_num_noise() < other.get_num_noise():\n",
    "                self.expand(other.get_num_noise() - self.get_num_noise())\n",
    "            else:\n",
    "                other.expand(self.get_num_noise() - other.get_num_noise())\n",
    "            _temp = self.centers * other.generators + other.centers * self.generators\n",
    "            _new_noise = torch.diag(self.get_rad() * other.get_rad())\n",
    "            _generators = torch.cat((_temp, _new_noise), dim=0)\n",
    "            return Zonotope(self.centers * other.centers, _generators)\n",
    "        if isinstance(other, (int, float)):\n",
    "            return Zonotope(self.centers * other, self.generators * other)\n",
    "        if isinstance(other, torch.Tensor):\n",
    "            if self.centers.size() != other.size():\n",
    "                raise TypeError(\"Invalid size of input tensor.\")\n",
    "            return Zonotope(self.centers * other, self.generators * other)\n",
    "        raise TypeError(f\"Unsupported operation `*` for class {self.__class__} and {type(other)}\")\n",
    "\n",
    "    def get_num_vars(self):\n",
    "        return self.centers.size(1)\n",
    "\n",
    "    def get_num_noise(self):\n",
    "        return self.generators.size(0)\n",
    "\n",
    "    def get_rad(self):\n",
    "        return torch.sum(torch.abs(self.generators), dim=0)\n",
    "\n",
    "    def get_lb(self):\n",
    "        return self.centers - self.get_rad()\n",
    "\n",
    "    def get_ub(self):\n",
    "        return self.centers + self.get_rad()\n",
    "\n",
    "    def expand(self, n):\n",
    "        if n < 0:\n",
    "            raise ValueError(\"Invalid size!\")\n",
    "        if n != 0:\n",
    "            self.generators = torch.cat((self.generators, torch.zeros(n, self.get_num_vars(), device=device)), dim=0)\n",
    "        return\n"
   ],
   "metadata": {
    "collapsed": false,
    "pycharm": {
     "name": "#%%\n"
    }
   }
  },
  {
   "cell_type": "code",
   "execution_count": 11,
   "outputs": [
    {
     "name": "stdout",
     "output_type": "stream",
     "text": [
      "Centers: \n",
      "tensor([[ 1., -3.,  4.]], device='mps:0')\n",
      "Generators: \n",
      "tensor([[ 1.,  3., -4.],\n",
      "        [ 2.,  5.,  8.]], device='mps:0')\n",
      "\n",
      "Centers: \n",
      "tensor([[-1.,  3.,  5.]], device='mps:0')\n",
      "Generators: \n",
      "tensor([[ 1.5000, -5.5000,  4.8000],\n",
      "        [ 2.9000, -5.2000,  4.5000],\n",
      "        [-3.4000,  2.2000,  7.7000]], device='mps:0')\n",
      "\n"
     ]
    }
   ],
   "source": [
    "z1 = Zonotope(centers=torch.tensor([[1., -3., 4.]], device=device),\n",
    "              generators=torch.tensor([[1., 3., -4.], [2., 5., 8.]], device=device))\n",
    "z2 = Zonotope(centers=torch.tensor([[-1., 3., 5.]], device=device),\n",
    "              generators=torch.tensor([[1.5, -5.5, 4.8], [2.9, -5.2, 4.5], [-3.4, 2.2, 7.7]], device=device))\n",
    "print(z1)\n",
    "print(z2)"
   ],
   "metadata": {
    "collapsed": false,
    "pycharm": {
     "name": "#%%\n"
    }
   }
  },
  {
   "cell_type": "code",
   "execution_count": 12,
   "outputs": [
    {
     "name": "stdout",
     "output_type": "stream",
     "text": [
      "Centers: \n",
      "tensor([[0., 0., 9.]], device='mps:0')\n",
      "Generators: \n",
      "tensor([[ 2.5000, -2.5000,  0.8000],\n",
      "        [ 4.9000, -0.2000, 12.5000],\n",
      "        [-3.4000,  2.2000,  7.7000]], device='mps:0')\n",
      "\n",
      "Centers: \n",
      "tensor([[4., 0., 7.]], device='mps:0')\n",
      "Generators: \n",
      "tensor([[ 1.,  3., -4.],\n",
      "        [ 2.,  5.,  8.],\n",
      "        [ 0.,  0.,  0.]], device='mps:0')\n",
      "\n",
      "Centers: \n",
      "tensor([[ 3.,  1., 10.]], device='mps:0')\n",
      "Generators: \n",
      "tensor([[ 1.,  3., -4.],\n",
      "        [ 2.,  5.,  8.],\n",
      "        [ 0.,  0.,  0.]], device='mps:0')\n",
      "\n"
     ]
    }
   ],
   "source": [
    "print(z1 + z2)\n",
    "print(z1 + 3)\n",
    "print(z1 + torch.tensor([[2., 4., 6.]], device=device))"
   ],
   "metadata": {
    "collapsed": false,
    "pycharm": {
     "name": "#%%\n"
    }
   }
  },
  {
   "cell_type": "code",
   "execution_count": 13,
   "outputs": [
    {
     "name": "stdout",
     "output_type": "stream",
     "text": [
      "tensor([ 3.,  8., 12.], device='mps:0')\n",
      "tensor([[ -2., -11.,  -8.]], device='mps:0')\n",
      "tensor([[ 4.,  5., 16.]], device='mps:0')\n"
     ]
    }
   ],
   "source": [
    "print(z1.get_rad())\n",
    "print(z1.get_lb())\n",
    "print(z1.get_ub())"
   ],
   "metadata": {
    "collapsed": false,
    "pycharm": {
     "name": "#%%\n"
    }
   }
  },
  {
   "cell_type": "code",
   "execution_count": 14,
   "outputs": [
    {
     "name": "stdout",
     "output_type": "stream",
     "text": [
      "Centers: \n",
      "tensor([[ 3., -9., 12.]], device='mps:0')\n",
      "Generators: \n",
      "tensor([[  3.,   9., -12.],\n",
      "        [  6.,  15.,  24.],\n",
      "        [  0.,   0.,   0.]], device='mps:0')\n",
      "\n",
      "Centers: \n",
      "tensor([[ 1., -6., 12.]], device='mps:0')\n",
      "Generators: \n",
      "tensor([[  1.,   6., -12.],\n",
      "        [  2.,  10.,  24.],\n",
      "        [  0.,   0.,   0.]], device='mps:0')\n",
      "\n",
      "Centers: \n",
      "tensor([[-1., -9., 20.]], device='mps:0')\n",
      "Generators: \n",
      "tensor([[  0.5000,  25.5000,  -0.8000],\n",
      "        [  0.9000,  30.6000,  58.0000],\n",
      "        [ -3.4000,  -6.6000,  30.8000],\n",
      "        [ 23.4000,   0.0000,   0.0000],\n",
      "        [  0.0000, 103.2000,   0.0000],\n",
      "        [  0.0000,   0.0000, 204.0000]], device='mps:0')\n",
      "\n"
     ]
    }
   ],
   "source": [
    "print(z1 * 3)\n",
    "print(z1 * torch.tensor([[1., 2., 3.]], device=device))\n",
    "print(z1 * z2)"
   ],
   "metadata": {
    "collapsed": false,
    "pycharm": {
     "name": "#%%\n"
    }
   }
  },
  {
   "cell_type": "code",
   "execution_count": 15,
   "outputs": [],
   "source": [
    "def sigmoid(zono: Zonotope):\n",
    "    _lb = zono.get_lb()\n",
    "    _ub = zono.get_ub()\n",
    "    _f_lb = torch.sigmoid(_lb)\n",
    "    _f_ub = torch.sigmoid(_ub)\n",
    "    _lambda_opt = torch.min((1 - _f_lb) * _f_lb, (1 - _f_ub) * _f_ub)\n",
    "    _mu1 = 0.5 * (_f_ub + _f_lb - _lambda_opt * (_ub + _lb))\n",
    "    _mu2 = 0.5 * (_f_ub - _f_lb - _lambda_opt * (_ub - _lb))\n",
    "    _centers = _lambda_opt * zono.centers + _mu1\n",
    "    _generators = torch.cat((_lambda_opt * zono.generators, torch.diag(torch.squeeze(_mu2))), dim=0)\n",
    "    zono.expand(_generators.size(0) - zono.get_num_noise())\n",
    "    return Zonotope(_centers, _generators)\n"
   ],
   "metadata": {
    "collapsed": false,
    "pycharm": {
     "name": "#%%\n"
    }
   }
  },
  {
   "cell_type": "code",
   "execution_count": 16,
   "outputs": [
    {
     "name": "stdout",
     "output_type": "stream",
     "text": [
      "Centers: \n",
      "tensor([[0.5506, 0.4967, 0.5002]], device='mps:0')\n",
      "Generators: \n",
      "tensor([[ 1.7663e-02,  5.0103e-05, -4.7684e-07],\n",
      "        [ 3.5325e-02,  8.3506e-05,  9.5367e-07],\n",
      "        [ 0.0000e+00,  0.0000e+00,  0.0000e+00],\n",
      "        [ 3.7842e-01,  0.0000e+00,  0.0000e+00],\n",
      "        [ 0.0000e+00,  4.9651e-01,  0.0000e+00],\n",
      "        [ 0.0000e+00,  0.0000e+00,  4.9983e-01]], device='mps:0')\n",
      "\n",
      "Centers: \n",
      "tensor([[ 1., -3.,  4.]], device='mps:0')\n",
      "Generators: \n",
      "tensor([[ 1.,  3., -4.],\n",
      "        [ 2.,  5.,  8.],\n",
      "        [ 0.,  0.,  0.],\n",
      "        [ 0.,  0.,  0.],\n",
      "        [ 0.,  0.,  0.],\n",
      "        [ 0.,  0.,  0.]], device='mps:0')\n",
      "\n"
     ]
    }
   ],
   "source": [
    "print(sigmoid(z1))\n",
    "print(z1)"
   ],
   "metadata": {
    "collapsed": false,
    "pycharm": {
     "name": "#%%\n"
    }
   }
  }
 ],
 "metadata": {
  "kernelspec": {
   "display_name": "Python 3",
   "language": "python",
   "name": "python3"
  },
  "language_info": {
   "codemirror_mode": {
    "name": "ipython",
    "version": 2
   },
   "file_extension": ".py",
   "mimetype": "text/x-python",
   "name": "python",
   "nbconvert_exporter": "python",
   "pygments_lexer": "ipython2",
   "version": "2.7.6"
  }
 },
 "nbformat": 4,
 "nbformat_minor": 0
}