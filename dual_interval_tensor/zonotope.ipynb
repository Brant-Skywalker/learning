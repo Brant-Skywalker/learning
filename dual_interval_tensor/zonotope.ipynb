{
 "cells": [
  {
   "cell_type": "code",
   "execution_count": 53,
   "metadata": {
    "collapsed": true,
    "pycharm": {
     "name": "#%%\n"
    }
   },
   "outputs": [],
   "source": [
    "import torch\n",
    "\n",
    "device = torch.device(\"mps\") if torch.backends.mps.is_available() else torch.device(\"cpu\")\n"
   ]
  },
  {
   "cell_type": "code",
   "execution_count": 54,
   "outputs": [],
   "source": [
    "class Zonotope:\n",
    "    def __init__(self, centers, generators):\n",
    "        if centers.size(1) != generators.size(1):\n",
    "            raise TypeError(\"The second dimension of input tensors do not match.\")\n",
    "        if centers.device != generators.device:\n",
    "            raise TypeError(\"Input devices do not match.\")\n",
    "        self.centers = centers\n",
    "        self.generators = generators\n",
    "        self.device = generators.device\n",
    "\n",
    "    def __repr__(self) -> str:\n",
    "        return \"Centers: \\n\" + self.centers.__str__() + \"\\n\" + \"Generators: \\n\" + self.generators.__str__() + \"\\n\"\n",
    "\n",
    "    def __add__(self, other):\n",
    "        if isinstance(other, self.__class__):\n",
    "            if self.get_num_noise() < other.get_num_noise():\n",
    "                self.expand(other.get_num_noise() - self.get_num_noise())\n",
    "            else:\n",
    "                other.expand(self.get_num_noise() - other.get_num_noise())\n",
    "            return Zonotope(self.centers + other.centers, self.generators + other.generators)\n",
    "        if isinstance(other, (int, float)):\n",
    "            return Zonotope(self.centers + other, self.generators)\n",
    "        if isinstance(other, torch.Tensor):\n",
    "            if self.centers.size() != other.size():\n",
    "                raise TypeError(\"Invalid size of input tensor.\")\n",
    "            return Zonotope(self.centers + other, self.generators)\n",
    "        raise TypeError(f\"Unsupported operation `+` for class {self.__class__} and {type(other)}\")\n",
    "\n",
    "    __radd__ = __add__\n",
    "\n",
    "    def get_num_vars(self):\n",
    "        return self.centers.size(1)\n",
    "\n",
    "    def get_num_noise(self):\n",
    "        return self.generators.size(0)\n",
    "\n",
    "    def expand(self, n):\n",
    "        if n < 0:\n",
    "            raise ValueError(\"Invalid size!\")\n",
    "        if n != 0:\n",
    "            self.generators = torch.cat((self.generators, torch.zeros(n, self.get_num_vars(), device=device)), dim=0)\n",
    "        return\n"
   ],
   "metadata": {
    "collapsed": false,
    "pycharm": {
     "name": "#%%\n"
    }
   }
  },
  {
   "cell_type": "code",
   "execution_count": 55,
   "outputs": [
    {
     "name": "stdout",
     "output_type": "stream",
     "text": [
      "Centers: \n",
      "tensor([[ 1., -3.,  4.]], device='mps:0')\n",
      "Generators: \n",
      "tensor([[1., 3., 4.],\n",
      "        [2., 5., 8.]], device='mps:0')\n",
      "\n",
      "Centers: \n",
      "tensor([[-1.,  3.,  5.]], device='mps:0')\n",
      "Generators: \n",
      "tensor([[1.5000, 5.5000, 4.8000],\n",
      "        [2.9000, 5.2000, 4.5000],\n",
      "        [3.4000, 2.2000, 7.7000]], device='mps:0')\n",
      "\n"
     ]
    }
   ],
   "source": [
    "z1 = Zonotope(centers=torch.tensor([[1., -3., 4.]], device=device),\n",
    "              generators=torch.tensor([[1., 3., 4.], [2., 5., 8.]], device=device))\n",
    "z2 = Zonotope(centers=torch.tensor([[-1., 3., 5.]], device=device),\n",
    "              generators=torch.tensor([[1.5, 5.5, 4.8], [2.9, 5.2, 4.5], [3.4, 2.2, 7.7]], device=device))\n",
    "print(z1)\n",
    "print(z2)"
   ],
   "metadata": {
    "collapsed": false,
    "pycharm": {
     "name": "#%%\n"
    }
   }
  },
  {
   "cell_type": "code",
   "execution_count": 56,
   "outputs": [
    {
     "name": "stdout",
     "output_type": "stream",
     "text": [
      "Centers: \n",
      "tensor([[0., 0., 9.]], device='mps:0')\n",
      "Generators: \n",
      "tensor([[ 2.5000,  8.5000,  8.8000],\n",
      "        [ 4.9000, 10.2000, 12.5000],\n",
      "        [ 3.4000,  2.2000,  7.7000]], device='mps:0')\n",
      "\n",
      "Centers: \n",
      "tensor([[4., 0., 7.]], device='mps:0')\n",
      "Generators: \n",
      "tensor([[1., 3., 4.],\n",
      "        [2., 5., 8.],\n",
      "        [0., 0., 0.]], device='mps:0')\n",
      "\n",
      "Centers: \n",
      "tensor([[ 3.,  1., 10.]], device='mps:0')\n",
      "Generators: \n",
      "tensor([[1., 3., 4.],\n",
      "        [2., 5., 8.],\n",
      "        [0., 0., 0.]], device='mps:0')\n",
      "\n"
     ]
    }
   ],
   "source": [
    "print(z1 + z2)\n",
    "print(z1 + 3)\n",
    "print(z1 + torch.tensor([[2., 4., 6.]], device=device))\n"
   ],
   "metadata": {
    "collapsed": false,
    "pycharm": {
     "name": "#%%\n"
    }
   }
  }
 ],
 "metadata": {
  "kernelspec": {
   "display_name": "Python 3",
   "language": "python",
   "name": "python3"
  },
  "language_info": {
   "codemirror_mode": {
    "name": "ipython",
    "version": 2
   },
   "file_extension": ".py",
   "mimetype": "text/x-python",
   "name": "python",
   "nbconvert_exporter": "python",
   "pygments_lexer": "ipython2",
   "version": "2.7.6"
  }
 },
 "nbformat": 4,
 "nbformat_minor": 0
}